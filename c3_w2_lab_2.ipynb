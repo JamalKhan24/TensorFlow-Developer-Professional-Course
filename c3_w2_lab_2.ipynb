{
  "cells": [
    {
      "cell_type": "markdown",
      "metadata": {
        "id": "ilFM0qCl3Gzx"
      },
      "source": [
        "<a href=\"https://colab.research.google.com/github/https-deeplearning-ai/tensorflow-1-public/blob/version_3/C3/W2/ungraded_labs/C3_W2_Lab_2_sarcasm_classifier.ipynb\" target=\"_parent\"><img src=\"https://colab.research.google.com/assets/colab-badge.svg\" alt=\"Open In Colab\"/></a>"
      ]
    },
    {
      "cell_type": "markdown",
      "metadata": {
        "id": "ZfVtdwryvvP6"
      },
      "source": [
        "# Ungraded Lab: Training a binary classifier with the Sarcasm Dataset\n",
        "\n",
        "In this lab, you will revisit the [News Headlines Dataset for Sarcasm Detection](https://www.kaggle.com/rmisra/news-headlines-dataset-for-sarcasm-detection/home) from last week and proceed to build a train a model on it. The steps will be very similar to the previous lab with IMDB Reviews with just some minor modifications. You can tweak the hyperparameters and see how it affects the results. Let's begin!"
      ]
    },
    {
      "cell_type": "markdown",
      "metadata": {
        "id": "aWIM6gplHqfx"
      },
      "source": [
        "## Download the dataset\n",
        "\n",
        "You will first download the JSON file, load it into your workspace and put the sentences and labels into lists."
      ]
    },
    {
      "cell_type": "code",
      "execution_count": 1,
      "metadata": {
        "id": "BQVuQrZNkPn9",
        "colab": {
          "base_uri": "https://localhost:8080/"
        },
        "outputId": "b04e10fa-56c1-4932-c3a8-68038e4f884e"
      },
      "outputs": [
        {
          "output_type": "stream",
          "name": "stdout",
          "text": [
            "--2024-10-04 09:09:13--  https://storage.googleapis.com/tensorflow-1-public/course3/sarcasm.json\n",
            "Resolving storage.googleapis.com (storage.googleapis.com)... 142.251.184.207, 142.250.125.207, 209.85.200.207, ...\n",
            "Connecting to storage.googleapis.com (storage.googleapis.com)|142.251.184.207|:443... connected.\n",
            "HTTP request sent, awaiting response... 200 OK\n",
            "Length: 5643545 (5.4M) [application/json]\n",
            "Saving to: ‘sarcasm.json’\n",
            "\n",
            "sarcasm.json        100%[===================>]   5.38M  --.-KB/s    in 0.1s    \n",
            "\n",
            "2024-10-04 09:09:14 (44.5 MB/s) - ‘sarcasm.json’ saved [5643545/5643545]\n",
            "\n"
          ]
        }
      ],
      "source": [
        "# Download the dataset\n",
        "!wget https://storage.googleapis.com/tensorflow-1-public/course3/sarcasm.json"
      ]
    },
    {
      "cell_type": "code",
      "execution_count": 2,
      "metadata": {
        "id": "oaLaaqhNkUPd"
      },
      "outputs": [],
      "source": [
        "import json\n",
        "\n",
        "# Load the JSON file\n",
        "with open(\"./sarcasm.json\", 'r') as f:\n",
        "    datastore = json.load(f)\n",
        "\n",
        "# Initialize the lists\n",
        "sentences = []\n",
        "labels = []\n",
        "\n",
        "# Collect sentences and labels into the lists\n",
        "for item in datastore:\n",
        "    sentences.append(item['headline'])\n",
        "    labels.append(item['is_sarcastic'])"
      ]
    },
    {
      "cell_type": "markdown",
      "metadata": {
        "id": "kw1I6oNSfCxa"
      },
      "source": [
        "## Hyperparameters\n",
        "\n",
        "We placed the hyperparameters in the cell below so you can easily tweak it later:"
      ]
    },
    {
      "cell_type": "code",
      "execution_count": 3,
      "metadata": {
        "id": "wpF4x5olfHX-"
      },
      "outputs": [],
      "source": [
        "# Number of examples to use for training\n",
        "training_size = 20000\n",
        "\n",
        "# Vocabulary size of the tokenizer\n",
        "vocab_size = 10000\n",
        "\n",
        "# Maximum length of the padded sequences\n",
        "max_length = 32\n",
        "\n",
        "# Output dimensions of the Embedding layer\n",
        "embedding_dim = 16"
      ]
    },
    {
      "cell_type": "code",
      "source": [
        "vocab_size_1 = 1000\n",
        "max_length_1 = 16\n",
        "embedding_dim_1 = 8"
      ],
      "metadata": {
        "id": "u7p6HUxr7_Cc"
      },
      "execution_count": 14,
      "outputs": []
    },
    {
      "cell_type": "code",
      "source": [
        "vocab_size_2 = 1000\n",
        "max_length_2 = 16\n",
        "embedding_dim_2 = 16"
      ],
      "metadata": {
        "id": "ADsL78QG8_7l"
      },
      "execution_count": 28,
      "outputs": []
    },
    {
      "cell_type": "markdown",
      "metadata": {
        "id": "dHibcDI0H5Zj"
      },
      "source": [
        "## Split the dataset\n",
        "\n",
        "Next, you will generate your train and test datasets. You will use the `training_size` value you set above to slice the `sentences` and `labels` lists into two sublists: one fore training and another for testing."
      ]
    },
    {
      "cell_type": "code",
      "execution_count": 4,
      "metadata": {
        "id": "S1sD-7v0kYWk"
      },
      "outputs": [],
      "source": [
        "# Split the sentences\n",
        "training_sentences = sentences[0:training_size]\n",
        "testing_sentences = sentences[training_size:]\n",
        "\n",
        "# Split the labels\n",
        "training_labels = labels[0:training_size]\n",
        "testing_labels = labels[training_size:]"
      ]
    },
    {
      "cell_type": "markdown",
      "metadata": {
        "id": "qciTzNR7IHzJ"
      },
      "source": [
        "## Preprocessing the train and test sets\n",
        "\n",
        "Now you can preprocess the text and labels so it can be consumed by the model. You use the `Tokenizer` class to create the vocabulary and the `pad_sequences` method to generate padded token sequences. You will also need to set the labels to a numpy array so it can be a valid data type for `model.fit()`."
      ]
    },
    {
      "cell_type": "code",
      "execution_count": 5,
      "metadata": {
        "id": "3u8UB0MCkZ5N"
      },
      "outputs": [],
      "source": [
        "import numpy as np\n",
        "from tensorflow.keras.preprocessing.text import Tokenizer\n",
        "from tensorflow.keras.preprocessing.sequence import pad_sequences\n",
        "\n",
        "# Parameters for padding and OOV tokens\n",
        "trunc_type='post'\n",
        "padding_type='post'\n",
        "oov_tok = \"<OOV>\"\n",
        "\n",
        "# Initialize the Tokenizer class\n",
        "tokenizer = Tokenizer(num_words=vocab_size, oov_token=oov_tok)\n",
        "\n",
        "# Generate the word index dictionary\n",
        "tokenizer.fit_on_texts(training_sentences)\n",
        "word_index = tokenizer.word_index\n",
        "\n",
        "# Generate and pad the training sequences\n",
        "training_sequences = tokenizer.texts_to_sequences(training_sentences)\n",
        "training_padded = pad_sequences(training_sequences, maxlen=max_length, padding=padding_type, truncating=trunc_type)\n",
        "\n",
        "# Generate and pad the testing sequences\n",
        "testing_sequences = tokenizer.texts_to_sequences(testing_sentences)\n",
        "testing_padded = pad_sequences(testing_sequences, maxlen=max_length, padding=padding_type, truncating=trunc_type)\n",
        "\n",
        "# Convert the labels lists into numpy arrays\n",
        "training_labels = np.array(training_labels)\n",
        "testing_labels = np.array(testing_labels)"
      ]
    },
    {
      "cell_type": "code",
      "source": [
        "tokenizer_1 = Tokenizer(num_words=vocab_size_1, oov_token=oov_tok)\n",
        "tokenizer_1.fit_on_texts(training_sentences)\n",
        "word_index_1 = tokenizer_1.word_index\n",
        "training_sequences_1 = tokenizer_1.texts_to_sequences(training_sentences)\n",
        "training_padded_1 = pad_sequences(training_sequences_1, maxlen=max_length_1, padding=padding_type, truncating=trunc_type)\n",
        "testing_sequences_1 = tokenizer_1.texts_to_sequences(testing_sentences)\n",
        "testing_padded_1 = pad_sequences(testing_sequences_1, maxlen=max_length_1, padding=padding_type, truncating=trunc_type)\n",
        "training_labels_1 = np.array(training_labels)\n",
        "testing_labels_1 = np.array(testing_labels)"
      ],
      "metadata": {
        "id": "akzW6MCN8ID_"
      },
      "execution_count": 15,
      "outputs": []
    },
    {
      "cell_type": "code",
      "source": [
        "tokenizer_2 = Tokenizer(num_words=vocab_size_2, oov_token=oov_tok)\n",
        "tokenizer_2.fit_on_texts(training_sentences)\n",
        "word_index_2 = tokenizer_2.word_index\n",
        "training_sequences_2 = tokenizer_2.texts_to_sequences(training_sentences)\n",
        "training_padded_2 = pad_sequences(training_sequences_2, maxlen=max_length_2, padding=padding_type, truncating=trunc_type)\n",
        "testing_sequences_2 = tokenizer_2.texts_to_sequences(testing_sentences)\n",
        "testing_padded_2 = pad_sequences(testing_sequences_2, maxlen=max_length_2, padding=padding_type, truncating=trunc_type)\n",
        "training_labels_2 = np.array(training_labels)\n",
        "testing_labels_2 = np.array(testing_labels)"
      ],
      "metadata": {
        "id": "9mmCJDKb9DpJ"
      },
      "execution_count": 29,
      "outputs": []
    },
    {
      "cell_type": "markdown",
      "metadata": {
        "id": "AMF4afx2IdHo"
      },
      "source": [
        "## Build and Compile the Model\n",
        "\n",
        "Next, you will build the model. The architecture is similar to the previous lab but you will use a [GlobalAveragePooling1D](https://www.tensorflow.org/api_docs/python/tf/keras/layers/GlobalAveragePooling1D) layer instead of `Flatten` after the Embedding. This adds the task of averaging over the sequence dimension before connecting to the dense layers. See a short demo of how this works using the snippet below. Notice that it gets the average over 3 arrays (i.e. `(10 + 1 + 1) / 3` and `(2 + 3 + 1) / 3` to arrive at the final output."
      ]
    },
    {
      "cell_type": "code",
      "execution_count": 6,
      "metadata": {
        "id": "7KDCvSc0kFOz",
        "colab": {
          "base_uri": "https://localhost:8080/"
        },
        "outputId": "9b0f4399-1827-44d8-a0c6-6b3360f416ff"
      },
      "outputs": [
        {
          "output_type": "stream",
          "name": "stdout",
          "text": [
            "shape of sample_array = (1, 3, 2)\n",
            "sample array: [[[10  2]\n",
            "  [ 1  3]\n",
            "  [ 1  1]]]\n",
            "output shape of gap1d_layer: (1, 2)\n",
            "output array of gap1d_layer: [[4. 2.]]\n"
          ]
        }
      ],
      "source": [
        "import tensorflow as tf\n",
        "\n",
        "# Initialize a GlobalAveragePooling1D (GAP1D) layer\n",
        "gap1d_layer = tf.keras.layers.GlobalAveragePooling1D()\n",
        "\n",
        "# Define sample array\n",
        "sample_array = np.array([[[10,2],[1,3],[1,1]]])\n",
        "\n",
        "# Print shape and contents of sample array\n",
        "print(f'shape of sample_array = {sample_array.shape}')\n",
        "print(f'sample array: {sample_array}')\n",
        "\n",
        "# Pass the sample array to the GAP1D layer\n",
        "output = gap1d_layer(sample_array)\n",
        "\n",
        "# Print shape and contents of the GAP1D output array\n",
        "print(f'output shape of gap1d_layer: {output.shape}')\n",
        "print(f'output array of gap1d_layer: {output.numpy()}')"
      ]
    },
    {
      "cell_type": "markdown",
      "metadata": {
        "id": "evlU_kqOshc4"
      },
      "source": [
        "This added computation reduces the dimensionality of the model as compared to using `Flatten()` and thus, the number of training parameters will also decrease. See the output of `model.summary()` below and see how it compares if you swap out the pooling layer with a simple `Flatten()`."
      ]
    },
    {
      "cell_type": "code",
      "execution_count": 7,
      "metadata": {
        "id": "FufaT4vlkiDE",
        "colab": {
          "base_uri": "https://localhost:8080/",
          "height": 284
        },
        "outputId": "776f2d4c-3014-4c59-b155-a7589ef45dc6"
      },
      "outputs": [
        {
          "output_type": "display_data",
          "data": {
            "text/plain": [
              "\u001b[1mModel: \"sequential\"\u001b[0m\n"
            ],
            "text/html": [
              "<pre style=\"white-space:pre;overflow-x:auto;line-height:normal;font-family:Menlo,'DejaVu Sans Mono',consolas,'Courier New',monospace\"><span style=\"font-weight: bold\">Model: \"sequential\"</span>\n",
              "</pre>\n"
            ]
          },
          "metadata": {}
        },
        {
          "output_type": "display_data",
          "data": {
            "text/plain": [
              "┏━━━━━━━━━━━━━━━━━━━━━━━━━━━━━━━━━━━━━━┳━━━━━━━━━━━━━━━━━━━━━━━━━━━━━┳━━━━━━━━━━━━━━━━━┓\n",
              "┃\u001b[1m \u001b[0m\u001b[1mLayer (type)                        \u001b[0m\u001b[1m \u001b[0m┃\u001b[1m \u001b[0m\u001b[1mOutput Shape               \u001b[0m\u001b[1m \u001b[0m┃\u001b[1m \u001b[0m\u001b[1m        Param #\u001b[0m\u001b[1m \u001b[0m┃\n",
              "┡━━━━━━━━━━━━━━━━━━━━━━━━━━━━━━━━━━━━━━╇━━━━━━━━━━━━━━━━━━━━━━━━━━━━━╇━━━━━━━━━━━━━━━━━┩\n",
              "│ embedding (\u001b[38;5;33mEmbedding\u001b[0m)                │ ?                           │     \u001b[38;5;34m0\u001b[0m (unbuilt) │\n",
              "├──────────────────────────────────────┼─────────────────────────────┼─────────────────┤\n",
              "│ global_average_pooling1d_1           │ ?                           │     \u001b[38;5;34m0\u001b[0m (unbuilt) │\n",
              "│ (\u001b[38;5;33mGlobalAveragePooling1D\u001b[0m)             │                             │                 │\n",
              "├──────────────────────────────────────┼─────────────────────────────┼─────────────────┤\n",
              "│ dense (\u001b[38;5;33mDense\u001b[0m)                        │ ?                           │     \u001b[38;5;34m0\u001b[0m (unbuilt) │\n",
              "├──────────────────────────────────────┼─────────────────────────────┼─────────────────┤\n",
              "│ dense_1 (\u001b[38;5;33mDense\u001b[0m)                      │ ?                           │     \u001b[38;5;34m0\u001b[0m (unbuilt) │\n",
              "└──────────────────────────────────────┴─────────────────────────────┴─────────────────┘\n"
            ],
            "text/html": [
              "<pre style=\"white-space:pre;overflow-x:auto;line-height:normal;font-family:Menlo,'DejaVu Sans Mono',consolas,'Courier New',monospace\">┏━━━━━━━━━━━━━━━━━━━━━━━━━━━━━━━━━━━━━━┳━━━━━━━━━━━━━━━━━━━━━━━━━━━━━┳━━━━━━━━━━━━━━━━━┓\n",
              "┃<span style=\"font-weight: bold\"> Layer (type)                         </span>┃<span style=\"font-weight: bold\"> Output Shape                </span>┃<span style=\"font-weight: bold\">         Param # </span>┃\n",
              "┡━━━━━━━━━━━━━━━━━━━━━━━━━━━━━━━━━━━━━━╇━━━━━━━━━━━━━━━━━━━━━━━━━━━━━╇━━━━━━━━━━━━━━━━━┩\n",
              "│ embedding (<span style=\"color: #0087ff; text-decoration-color: #0087ff\">Embedding</span>)                │ ?                           │     <span style=\"color: #00af00; text-decoration-color: #00af00\">0</span> (unbuilt) │\n",
              "├──────────────────────────────────────┼─────────────────────────────┼─────────────────┤\n",
              "│ global_average_pooling1d_1           │ ?                           │     <span style=\"color: #00af00; text-decoration-color: #00af00\">0</span> (unbuilt) │\n",
              "│ (<span style=\"color: #0087ff; text-decoration-color: #0087ff\">GlobalAveragePooling1D</span>)             │                             │                 │\n",
              "├──────────────────────────────────────┼─────────────────────────────┼─────────────────┤\n",
              "│ dense (<span style=\"color: #0087ff; text-decoration-color: #0087ff\">Dense</span>)                        │ ?                           │     <span style=\"color: #00af00; text-decoration-color: #00af00\">0</span> (unbuilt) │\n",
              "├──────────────────────────────────────┼─────────────────────────────┼─────────────────┤\n",
              "│ dense_1 (<span style=\"color: #0087ff; text-decoration-color: #0087ff\">Dense</span>)                      │ ?                           │     <span style=\"color: #00af00; text-decoration-color: #00af00\">0</span> (unbuilt) │\n",
              "└──────────────────────────────────────┴─────────────────────────────┴─────────────────┘\n",
              "</pre>\n"
            ]
          },
          "metadata": {}
        },
        {
          "output_type": "display_data",
          "data": {
            "text/plain": [
              "\u001b[1m Total params: \u001b[0m\u001b[38;5;34m0\u001b[0m (0.00 B)\n"
            ],
            "text/html": [
              "<pre style=\"white-space:pre;overflow-x:auto;line-height:normal;font-family:Menlo,'DejaVu Sans Mono',consolas,'Courier New',monospace\"><span style=\"font-weight: bold\"> Total params: </span><span style=\"color: #00af00; text-decoration-color: #00af00\">0</span> (0.00 B)\n",
              "</pre>\n"
            ]
          },
          "metadata": {}
        },
        {
          "output_type": "display_data",
          "data": {
            "text/plain": [
              "\u001b[1m Trainable params: \u001b[0m\u001b[38;5;34m0\u001b[0m (0.00 B)\n"
            ],
            "text/html": [
              "<pre style=\"white-space:pre;overflow-x:auto;line-height:normal;font-family:Menlo,'DejaVu Sans Mono',consolas,'Courier New',monospace\"><span style=\"font-weight: bold\"> Trainable params: </span><span style=\"color: #00af00; text-decoration-color: #00af00\">0</span> (0.00 B)\n",
              "</pre>\n"
            ]
          },
          "metadata": {}
        },
        {
          "output_type": "display_data",
          "data": {
            "text/plain": [
              "\u001b[1m Non-trainable params: \u001b[0m\u001b[38;5;34m0\u001b[0m (0.00 B)\n"
            ],
            "text/html": [
              "<pre style=\"white-space:pre;overflow-x:auto;line-height:normal;font-family:Menlo,'DejaVu Sans Mono',consolas,'Courier New',monospace\"><span style=\"font-weight: bold\"> Non-trainable params: </span><span style=\"color: #00af00; text-decoration-color: #00af00\">0</span> (0.00 B)\n",
              "</pre>\n"
            ]
          },
          "metadata": {}
        }
      ],
      "source": [
        "# Build the model\n",
        "model = tf.keras.Sequential([\n",
        "    # tf.keras.layers.Embedding(vocab_size, embedding_dim, input_length=max_length),  # input_length is deprecated now\n",
        "    tf.keras.layers.Embedding(vocab_size, embedding_dim),\n",
        "    tf.keras.layers.GlobalAveragePooling1D(),\n",
        "    tf.keras.layers.Dense(24, activation='relu'),\n",
        "    tf.keras.layers.Dense(1, activation='sigmoid')\n",
        "])\n",
        "\n",
        "# Print the model summary\n",
        "model.summary()"
      ]
    },
    {
      "cell_type": "markdown",
      "metadata": {
        "id": "GMxT5NzKtRgr"
      },
      "source": [
        "You will use the same loss, optimizer, and metrics from the previous lab."
      ]
    },
    {
      "cell_type": "code",
      "source": [
        "model_1 = tf.keras.Sequential([\n",
        "    # tf.keras.layers.Embedding(vocab_size, embedding_dim, input_length=max_length),  # input_length is deprecated now\n",
        "    tf.keras.layers.Embedding(vocab_size_1, embedding_dim_1),\n",
        "    tf.keras.layers.GlobalAveragePooling1D(),\n",
        "    tf.keras.layers.Dense(24, activation='relu'),\n",
        "    tf.keras.layers.Dense(1, activation='sigmoid')\n",
        "])\n",
        "\n",
        "model_1.summary()"
      ],
      "metadata": {
        "colab": {
          "base_uri": "https://localhost:8080/",
          "height": 284
        },
        "id": "R1bKLybi8SjI",
        "outputId": "6cb82e57-1a3f-4aa4-dec4-5674ab124c28"
      },
      "execution_count": 16,
      "outputs": [
        {
          "output_type": "display_data",
          "data": {
            "text/plain": [
              "\u001b[1mModel: \"sequential_1\"\u001b[0m\n"
            ],
            "text/html": [
              "<pre style=\"white-space:pre;overflow-x:auto;line-height:normal;font-family:Menlo,'DejaVu Sans Mono',consolas,'Courier New',monospace\"><span style=\"font-weight: bold\">Model: \"sequential_1\"</span>\n",
              "</pre>\n"
            ]
          },
          "metadata": {}
        },
        {
          "output_type": "display_data",
          "data": {
            "text/plain": [
              "┏━━━━━━━━━━━━━━━━━━━━━━━━━━━━━━━━━━━━━━┳━━━━━━━━━━━━━━━━━━━━━━━━━━━━━┳━━━━━━━━━━━━━━━━━┓\n",
              "┃\u001b[1m \u001b[0m\u001b[1mLayer (type)                        \u001b[0m\u001b[1m \u001b[0m┃\u001b[1m \u001b[0m\u001b[1mOutput Shape               \u001b[0m\u001b[1m \u001b[0m┃\u001b[1m \u001b[0m\u001b[1m        Param #\u001b[0m\u001b[1m \u001b[0m┃\n",
              "┡━━━━━━━━━━━━━━━━━━━━━━━━━━━━━━━━━━━━━━╇━━━━━━━━━━━━━━━━━━━━━━━━━━━━━╇━━━━━━━━━━━━━━━━━┩\n",
              "│ embedding_1 (\u001b[38;5;33mEmbedding\u001b[0m)              │ ?                           │     \u001b[38;5;34m0\u001b[0m (unbuilt) │\n",
              "├──────────────────────────────────────┼─────────────────────────────┼─────────────────┤\n",
              "│ global_average_pooling1d_2           │ ?                           │     \u001b[38;5;34m0\u001b[0m (unbuilt) │\n",
              "│ (\u001b[38;5;33mGlobalAveragePooling1D\u001b[0m)             │                             │                 │\n",
              "├──────────────────────────────────────┼─────────────────────────────┼─────────────────┤\n",
              "│ dense_2 (\u001b[38;5;33mDense\u001b[0m)                      │ ?                           │     \u001b[38;5;34m0\u001b[0m (unbuilt) │\n",
              "├──────────────────────────────────────┼─────────────────────────────┼─────────────────┤\n",
              "│ dense_3 (\u001b[38;5;33mDense\u001b[0m)                      │ ?                           │     \u001b[38;5;34m0\u001b[0m (unbuilt) │\n",
              "└──────────────────────────────────────┴─────────────────────────────┴─────────────────┘\n"
            ],
            "text/html": [
              "<pre style=\"white-space:pre;overflow-x:auto;line-height:normal;font-family:Menlo,'DejaVu Sans Mono',consolas,'Courier New',monospace\">┏━━━━━━━━━━━━━━━━━━━━━━━━━━━━━━━━━━━━━━┳━━━━━━━━━━━━━━━━━━━━━━━━━━━━━┳━━━━━━━━━━━━━━━━━┓\n",
              "┃<span style=\"font-weight: bold\"> Layer (type)                         </span>┃<span style=\"font-weight: bold\"> Output Shape                </span>┃<span style=\"font-weight: bold\">         Param # </span>┃\n",
              "┡━━━━━━━━━━━━━━━━━━━━━━━━━━━━━━━━━━━━━━╇━━━━━━━━━━━━━━━━━━━━━━━━━━━━━╇━━━━━━━━━━━━━━━━━┩\n",
              "│ embedding_1 (<span style=\"color: #0087ff; text-decoration-color: #0087ff\">Embedding</span>)              │ ?                           │     <span style=\"color: #00af00; text-decoration-color: #00af00\">0</span> (unbuilt) │\n",
              "├──────────────────────────────────────┼─────────────────────────────┼─────────────────┤\n",
              "│ global_average_pooling1d_2           │ ?                           │     <span style=\"color: #00af00; text-decoration-color: #00af00\">0</span> (unbuilt) │\n",
              "│ (<span style=\"color: #0087ff; text-decoration-color: #0087ff\">GlobalAveragePooling1D</span>)             │                             │                 │\n",
              "├──────────────────────────────────────┼─────────────────────────────┼─────────────────┤\n",
              "│ dense_2 (<span style=\"color: #0087ff; text-decoration-color: #0087ff\">Dense</span>)                      │ ?                           │     <span style=\"color: #00af00; text-decoration-color: #00af00\">0</span> (unbuilt) │\n",
              "├──────────────────────────────────────┼─────────────────────────────┼─────────────────┤\n",
              "│ dense_3 (<span style=\"color: #0087ff; text-decoration-color: #0087ff\">Dense</span>)                      │ ?                           │     <span style=\"color: #00af00; text-decoration-color: #00af00\">0</span> (unbuilt) │\n",
              "└──────────────────────────────────────┴─────────────────────────────┴─────────────────┘\n",
              "</pre>\n"
            ]
          },
          "metadata": {}
        },
        {
          "output_type": "display_data",
          "data": {
            "text/plain": [
              "\u001b[1m Total params: \u001b[0m\u001b[38;5;34m0\u001b[0m (0.00 B)\n"
            ],
            "text/html": [
              "<pre style=\"white-space:pre;overflow-x:auto;line-height:normal;font-family:Menlo,'DejaVu Sans Mono',consolas,'Courier New',monospace\"><span style=\"font-weight: bold\"> Total params: </span><span style=\"color: #00af00; text-decoration-color: #00af00\">0</span> (0.00 B)\n",
              "</pre>\n"
            ]
          },
          "metadata": {}
        },
        {
          "output_type": "display_data",
          "data": {
            "text/plain": [
              "\u001b[1m Trainable params: \u001b[0m\u001b[38;5;34m0\u001b[0m (0.00 B)\n"
            ],
            "text/html": [
              "<pre style=\"white-space:pre;overflow-x:auto;line-height:normal;font-family:Menlo,'DejaVu Sans Mono',consolas,'Courier New',monospace\"><span style=\"font-weight: bold\"> Trainable params: </span><span style=\"color: #00af00; text-decoration-color: #00af00\">0</span> (0.00 B)\n",
              "</pre>\n"
            ]
          },
          "metadata": {}
        },
        {
          "output_type": "display_data",
          "data": {
            "text/plain": [
              "\u001b[1m Non-trainable params: \u001b[0m\u001b[38;5;34m0\u001b[0m (0.00 B)\n"
            ],
            "text/html": [
              "<pre style=\"white-space:pre;overflow-x:auto;line-height:normal;font-family:Menlo,'DejaVu Sans Mono',consolas,'Courier New',monospace\"><span style=\"font-weight: bold\"> Non-trainable params: </span><span style=\"color: #00af00; text-decoration-color: #00af00\">0</span> (0.00 B)\n",
              "</pre>\n"
            ]
          },
          "metadata": {}
        }
      ]
    },
    {
      "cell_type": "code",
      "source": [
        "model_2 = tf.keras.Sequential([\n",
        "    # tf.keras.layers.Embedding(vocab_size, embedding_dim, input_length=max_length),  # input_length is deprecated now\n",
        "    tf.keras.layers.Embedding(vocab_size_2, embedding_dim_2),\n",
        "    tf.keras.layers.GlobalAveragePooling1D(),\n",
        "    tf.keras.layers.Dense(24, activation='relu'),\n",
        "    tf.keras.layers.Dense(1, activation='sigmoid')\n",
        "])\n",
        "\n",
        "model_2.summary()"
      ],
      "metadata": {
        "colab": {
          "base_uri": "https://localhost:8080/",
          "height": 284
        },
        "id": "cvoIiiK89Rlz",
        "outputId": "6d7e75ba-ebfa-41e4-ab00-2db796a2000e"
      },
      "execution_count": 30,
      "outputs": [
        {
          "output_type": "display_data",
          "data": {
            "text/plain": [
              "\u001b[1mModel: \"sequential_3\"\u001b[0m\n"
            ],
            "text/html": [
              "<pre style=\"white-space:pre;overflow-x:auto;line-height:normal;font-family:Menlo,'DejaVu Sans Mono',consolas,'Courier New',monospace\"><span style=\"font-weight: bold\">Model: \"sequential_3\"</span>\n",
              "</pre>\n"
            ]
          },
          "metadata": {}
        },
        {
          "output_type": "display_data",
          "data": {
            "text/plain": [
              "┏━━━━━━━━━━━━━━━━━━━━━━━━━━━━━━━━━━━━━━┳━━━━━━━━━━━━━━━━━━━━━━━━━━━━━┳━━━━━━━━━━━━━━━━━┓\n",
              "┃\u001b[1m \u001b[0m\u001b[1mLayer (type)                        \u001b[0m\u001b[1m \u001b[0m┃\u001b[1m \u001b[0m\u001b[1mOutput Shape               \u001b[0m\u001b[1m \u001b[0m┃\u001b[1m \u001b[0m\u001b[1m        Param #\u001b[0m\u001b[1m \u001b[0m┃\n",
              "┡━━━━━━━━━━━━━━━━━━━━━━━━━━━━━━━━━━━━━━╇━━━━━━━━━━━━━━━━━━━━━━━━━━━━━╇━━━━━━━━━━━━━━━━━┩\n",
              "│ embedding_3 (\u001b[38;5;33mEmbedding\u001b[0m)              │ ?                           │     \u001b[38;5;34m0\u001b[0m (unbuilt) │\n",
              "├──────────────────────────────────────┼─────────────────────────────┼─────────────────┤\n",
              "│ global_average_pooling1d_4           │ ?                           │     \u001b[38;5;34m0\u001b[0m (unbuilt) │\n",
              "│ (\u001b[38;5;33mGlobalAveragePooling1D\u001b[0m)             │                             │                 │\n",
              "├──────────────────────────────────────┼─────────────────────────────┼─────────────────┤\n",
              "│ dense_6 (\u001b[38;5;33mDense\u001b[0m)                      │ ?                           │     \u001b[38;5;34m0\u001b[0m (unbuilt) │\n",
              "├──────────────────────────────────────┼─────────────────────────────┼─────────────────┤\n",
              "│ dense_7 (\u001b[38;5;33mDense\u001b[0m)                      │ ?                           │     \u001b[38;5;34m0\u001b[0m (unbuilt) │\n",
              "└──────────────────────────────────────┴─────────────────────────────┴─────────────────┘\n"
            ],
            "text/html": [
              "<pre style=\"white-space:pre;overflow-x:auto;line-height:normal;font-family:Menlo,'DejaVu Sans Mono',consolas,'Courier New',monospace\">┏━━━━━━━━━━━━━━━━━━━━━━━━━━━━━━━━━━━━━━┳━━━━━━━━━━━━━━━━━━━━━━━━━━━━━┳━━━━━━━━━━━━━━━━━┓\n",
              "┃<span style=\"font-weight: bold\"> Layer (type)                         </span>┃<span style=\"font-weight: bold\"> Output Shape                </span>┃<span style=\"font-weight: bold\">         Param # </span>┃\n",
              "┡━━━━━━━━━━━━━━━━━━━━━━━━━━━━━━━━━━━━━━╇━━━━━━━━━━━━━━━━━━━━━━━━━━━━━╇━━━━━━━━━━━━━━━━━┩\n",
              "│ embedding_3 (<span style=\"color: #0087ff; text-decoration-color: #0087ff\">Embedding</span>)              │ ?                           │     <span style=\"color: #00af00; text-decoration-color: #00af00\">0</span> (unbuilt) │\n",
              "├──────────────────────────────────────┼─────────────────────────────┼─────────────────┤\n",
              "│ global_average_pooling1d_4           │ ?                           │     <span style=\"color: #00af00; text-decoration-color: #00af00\">0</span> (unbuilt) │\n",
              "│ (<span style=\"color: #0087ff; text-decoration-color: #0087ff\">GlobalAveragePooling1D</span>)             │                             │                 │\n",
              "├──────────────────────────────────────┼─────────────────────────────┼─────────────────┤\n",
              "│ dense_6 (<span style=\"color: #0087ff; text-decoration-color: #0087ff\">Dense</span>)                      │ ?                           │     <span style=\"color: #00af00; text-decoration-color: #00af00\">0</span> (unbuilt) │\n",
              "├──────────────────────────────────────┼─────────────────────────────┼─────────────────┤\n",
              "│ dense_7 (<span style=\"color: #0087ff; text-decoration-color: #0087ff\">Dense</span>)                      │ ?                           │     <span style=\"color: #00af00; text-decoration-color: #00af00\">0</span> (unbuilt) │\n",
              "└──────────────────────────────────────┴─────────────────────────────┴─────────────────┘\n",
              "</pre>\n"
            ]
          },
          "metadata": {}
        },
        {
          "output_type": "display_data",
          "data": {
            "text/plain": [
              "\u001b[1m Total params: \u001b[0m\u001b[38;5;34m0\u001b[0m (0.00 B)\n"
            ],
            "text/html": [
              "<pre style=\"white-space:pre;overflow-x:auto;line-height:normal;font-family:Menlo,'DejaVu Sans Mono',consolas,'Courier New',monospace\"><span style=\"font-weight: bold\"> Total params: </span><span style=\"color: #00af00; text-decoration-color: #00af00\">0</span> (0.00 B)\n",
              "</pre>\n"
            ]
          },
          "metadata": {}
        },
        {
          "output_type": "display_data",
          "data": {
            "text/plain": [
              "\u001b[1m Trainable params: \u001b[0m\u001b[38;5;34m0\u001b[0m (0.00 B)\n"
            ],
            "text/html": [
              "<pre style=\"white-space:pre;overflow-x:auto;line-height:normal;font-family:Menlo,'DejaVu Sans Mono',consolas,'Courier New',monospace\"><span style=\"font-weight: bold\"> Trainable params: </span><span style=\"color: #00af00; text-decoration-color: #00af00\">0</span> (0.00 B)\n",
              "</pre>\n"
            ]
          },
          "metadata": {}
        },
        {
          "output_type": "display_data",
          "data": {
            "text/plain": [
              "\u001b[1m Non-trainable params: \u001b[0m\u001b[38;5;34m0\u001b[0m (0.00 B)\n"
            ],
            "text/html": [
              "<pre style=\"white-space:pre;overflow-x:auto;line-height:normal;font-family:Menlo,'DejaVu Sans Mono',consolas,'Courier New',monospace\"><span style=\"font-weight: bold\"> Non-trainable params: </span><span style=\"color: #00af00; text-decoration-color: #00af00\">0</span> (0.00 B)\n",
              "</pre>\n"
            ]
          },
          "metadata": {}
        }
      ]
    },
    {
      "cell_type": "code",
      "execution_count": 8,
      "metadata": {
        "id": "XfDt1hmYkiys"
      },
      "outputs": [],
      "source": [
        "# Compile the model\n",
        "model.compile(loss='binary_crossentropy',optimizer='adam',metrics=['accuracy'])"
      ]
    },
    {
      "cell_type": "code",
      "source": [
        "model_1.compile(loss='binary_crossentropy',optimizer='adam',metrics=['accuracy'])"
      ],
      "metadata": {
        "id": "qfyVGJEx8cex"
      },
      "execution_count": 17,
      "outputs": []
    },
    {
      "cell_type": "code",
      "source": [
        "model_2.compile(loss='binary_crossentropy',optimizer='adam',metrics=['accuracy'])"
      ],
      "metadata": {
        "id": "FCAa1yiR9U3P"
      },
      "execution_count": 31,
      "outputs": []
    },
    {
      "cell_type": "markdown",
      "metadata": {
        "id": "Axtd-WQAJIUK"
      },
      "source": [
        "## Train the Model\n",
        "\n",
        "Now you will feed in the prepared datasets to train the model. If you used the default hyperparameters, you will get around 99% training accuracy and 80% validation accuracy.\n",
        "\n",
        "*Tip: You can set the `verbose` parameter of `model.fit()` to `2` to indicate that you want to print just the results per epoch. Setting it to `1` (default) displays a progress bar per epoch, while `0` silences all displays. It doesn't matter much in this Colab but when working in a production environment, you may want to set this to `2` as recommended in the [documentation](https://keras.io/api/models/model_training_apis/#fit-method).*"
      ]
    },
    {
      "cell_type": "code",
      "execution_count": 9,
      "metadata": {
        "id": "2DTKQFf1kkyc",
        "colab": {
          "base_uri": "https://localhost:8080/"
        },
        "outputId": "f148ad8e-d1ae-49ee-892e-5dc166ef8e7b"
      },
      "outputs": [
        {
          "output_type": "stream",
          "name": "stdout",
          "text": [
            "Epoch 1/30\n",
            "625/625 - 4s - 7ms/step - accuracy: 0.6917 - loss: 0.5797 - val_accuracy: 0.8244 - val_loss: 0.4228\n",
            "Epoch 2/30\n",
            "625/625 - 2s - 3ms/step - accuracy: 0.8583 - loss: 0.3428 - val_accuracy: 0.8474 - val_loss: 0.3525\n",
            "Epoch 3/30\n",
            "625/625 - 2s - 3ms/step - accuracy: 0.8941 - loss: 0.2642 - val_accuracy: 0.8439 - val_loss: 0.3480\n",
            "Epoch 4/30\n",
            "625/625 - 2s - 3ms/step - accuracy: 0.9147 - loss: 0.2139 - val_accuracy: 0.8496 - val_loss: 0.3499\n",
            "Epoch 5/30\n",
            "625/625 - 2s - 3ms/step - accuracy: 0.9290 - loss: 0.1826 - val_accuracy: 0.8475 - val_loss: 0.3701\n",
            "Epoch 6/30\n",
            "625/625 - 3s - 4ms/step - accuracy: 0.9386 - loss: 0.1609 - val_accuracy: 0.8493 - val_loss: 0.3923\n",
            "Epoch 7/30\n",
            "625/625 - 4s - 7ms/step - accuracy: 0.9484 - loss: 0.1401 - val_accuracy: 0.8477 - val_loss: 0.4100\n",
            "Epoch 8/30\n",
            "625/625 - 2s - 4ms/step - accuracy: 0.9579 - loss: 0.1193 - val_accuracy: 0.8402 - val_loss: 0.4547\n",
            "Epoch 9/30\n",
            "625/625 - 2s - 4ms/step - accuracy: 0.9622 - loss: 0.1079 - val_accuracy: 0.8262 - val_loss: 0.5247\n",
            "Epoch 10/30\n",
            "625/625 - 4s - 6ms/step - accuracy: 0.9606 - loss: 0.1045 - val_accuracy: 0.8390 - val_loss: 0.5028\n",
            "Epoch 11/30\n",
            "625/625 - 5s - 8ms/step - accuracy: 0.9704 - loss: 0.0855 - val_accuracy: 0.8353 - val_loss: 0.5450\n",
            "Epoch 12/30\n",
            "625/625 - 2s - 3ms/step - accuracy: 0.9703 - loss: 0.0820 - val_accuracy: 0.8262 - val_loss: 0.6005\n",
            "Epoch 13/30\n",
            "625/625 - 3s - 4ms/step - accuracy: 0.9752 - loss: 0.0730 - val_accuracy: 0.8307 - val_loss: 0.6080\n",
            "Epoch 14/30\n",
            "625/625 - 4s - 6ms/step - accuracy: 0.9773 - loss: 0.0662 - val_accuracy: 0.8283 - val_loss: 0.6458\n",
            "Epoch 15/30\n",
            "625/625 - 2s - 3ms/step - accuracy: 0.9786 - loss: 0.0629 - val_accuracy: 0.8269 - val_loss: 0.6934\n",
            "Epoch 16/30\n",
            "625/625 - 2s - 4ms/step - accuracy: 0.9812 - loss: 0.0569 - val_accuracy: 0.8274 - val_loss: 0.7111\n",
            "Epoch 17/30\n",
            "625/625 - 2s - 3ms/step - accuracy: 0.9825 - loss: 0.0524 - val_accuracy: 0.8255 - val_loss: 0.7501\n",
            "Epoch 18/30\n",
            "625/625 - 2s - 3ms/step - accuracy: 0.9803 - loss: 0.0565 - val_accuracy: 0.8223 - val_loss: 0.7698\n",
            "Epoch 19/30\n",
            "625/625 - 3s - 5ms/step - accuracy: 0.9843 - loss: 0.0460 - val_accuracy: 0.8174 - val_loss: 0.8408\n",
            "Epoch 20/30\n",
            "625/625 - 3s - 5ms/step - accuracy: 0.9866 - loss: 0.0421 - val_accuracy: 0.8198 - val_loss: 0.8481\n",
            "Epoch 21/30\n",
            "625/625 - 4s - 6ms/step - accuracy: 0.9848 - loss: 0.0445 - val_accuracy: 0.8173 - val_loss: 0.8905\n",
            "Epoch 22/30\n",
            "625/625 - 2s - 3ms/step - accuracy: 0.9883 - loss: 0.0351 - val_accuracy: 0.8144 - val_loss: 0.9385\n",
            "Epoch 23/30\n",
            "625/625 - 2s - 4ms/step - accuracy: 0.9889 - loss: 0.0353 - val_accuracy: 0.7965 - val_loss: 1.1516\n",
            "Epoch 24/30\n",
            "625/625 - 2s - 4ms/step - accuracy: 0.9871 - loss: 0.0360 - val_accuracy: 0.8110 - val_loss: 1.0004\n",
            "Epoch 25/30\n",
            "625/625 - 3s - 4ms/step - accuracy: 0.9896 - loss: 0.0329 - val_accuracy: 0.8128 - val_loss: 1.0248\n",
            "Epoch 26/30\n",
            "625/625 - 4s - 7ms/step - accuracy: 0.9916 - loss: 0.0265 - val_accuracy: 0.8106 - val_loss: 1.1011\n",
            "Epoch 27/30\n",
            "625/625 - 2s - 3ms/step - accuracy: 0.9880 - loss: 0.0331 - val_accuracy: 0.8062 - val_loss: 1.1943\n",
            "Epoch 28/30\n",
            "625/625 - 2s - 4ms/step - accuracy: 0.9911 - loss: 0.0264 - val_accuracy: 0.8106 - val_loss: 1.1630\n",
            "Epoch 29/30\n",
            "625/625 - 4s - 7ms/step - accuracy: 0.9924 - loss: 0.0239 - val_accuracy: 0.8027 - val_loss: 1.2732\n",
            "Epoch 30/30\n",
            "625/625 - 2s - 3ms/step - accuracy: 0.9923 - loss: 0.0240 - val_accuracy: 0.8027 - val_loss: 1.2483\n"
          ]
        }
      ],
      "source": [
        "num_epochs = 30\n",
        "\n",
        "# Train the model\n",
        "history = model.fit(training_padded, training_labels, epochs=num_epochs, validation_data=(testing_padded, testing_labels), verbose=2)"
      ]
    },
    {
      "cell_type": "code",
      "source": [
        "history_1 = model_1.fit(training_padded_1, training_labels_1, epochs=num_epochs, validation_data=(testing_padded_1, testing_labels_1), verbose=2)"
      ],
      "metadata": {
        "colab": {
          "base_uri": "https://localhost:8080/"
        },
        "id": "7nS_mh298e8Q",
        "outputId": "817c21aa-7574-49fb-a7b4-de454bc85a40"
      },
      "execution_count": 19,
      "outputs": [
        {
          "output_type": "stream",
          "name": "stdout",
          "text": [
            "Epoch 1/30\n",
            "625/625 - 2s - 3ms/step - accuracy: 0.8408 - loss: 0.3488 - val_accuracy: 0.8098 - val_loss: 0.4047\n",
            "Epoch 2/30\n",
            "625/625 - 4s - 6ms/step - accuracy: 0.8406 - loss: 0.3481 - val_accuracy: 0.8128 - val_loss: 0.4032\n",
            "Epoch 3/30\n",
            "625/625 - 3s - 5ms/step - accuracy: 0.8416 - loss: 0.3470 - val_accuracy: 0.8147 - val_loss: 0.3996\n",
            "Epoch 4/30\n",
            "625/625 - 1s - 2ms/step - accuracy: 0.8450 - loss: 0.3423 - val_accuracy: 0.8177 - val_loss: 0.3975\n",
            "Epoch 5/30\n",
            "625/625 - 1s - 2ms/step - accuracy: 0.8453 - loss: 0.3414 - val_accuracy: 0.8199 - val_loss: 0.3967\n",
            "Epoch 6/30\n",
            "625/625 - 1s - 2ms/step - accuracy: 0.8476 - loss: 0.3381 - val_accuracy: 0.8192 - val_loss: 0.3967\n",
            "Epoch 7/30\n",
            "625/625 - 1s - 2ms/step - accuracy: 0.8482 - loss: 0.3361 - val_accuracy: 0.8186 - val_loss: 0.3964\n",
            "Epoch 8/30\n",
            "625/625 - 2s - 3ms/step - accuracy: 0.8486 - loss: 0.3349 - val_accuracy: 0.8171 - val_loss: 0.3996\n",
            "Epoch 9/30\n",
            "625/625 - 4s - 7ms/step - accuracy: 0.8493 - loss: 0.3325 - val_accuracy: 0.8210 - val_loss: 0.3941\n",
            "Epoch 10/30\n",
            "625/625 - 2s - 3ms/step - accuracy: 0.8519 - loss: 0.3297 - val_accuracy: 0.8208 - val_loss: 0.3955\n",
            "Epoch 11/30\n",
            "625/625 - 2s - 3ms/step - accuracy: 0.8522 - loss: 0.3286 - val_accuracy: 0.8219 - val_loss: 0.3969\n",
            "Epoch 12/30\n",
            "625/625 - 1s - 2ms/step - accuracy: 0.8551 - loss: 0.3258 - val_accuracy: 0.8229 - val_loss: 0.3926\n",
            "Epoch 13/30\n",
            "625/625 - 1s - 2ms/step - accuracy: 0.8546 - loss: 0.3249 - val_accuracy: 0.8219 - val_loss: 0.3938\n",
            "Epoch 14/30\n",
            "625/625 - 1s - 2ms/step - accuracy: 0.8561 - loss: 0.3224 - val_accuracy: 0.8162 - val_loss: 0.3998\n",
            "Epoch 15/30\n",
            "625/625 - 1s - 2ms/step - accuracy: 0.8577 - loss: 0.3209 - val_accuracy: 0.8101 - val_loss: 0.4082\n",
            "Epoch 16/30\n",
            "625/625 - 1s - 2ms/step - accuracy: 0.8574 - loss: 0.3192 - val_accuracy: 0.8207 - val_loss: 0.3965\n",
            "Epoch 17/30\n",
            "625/625 - 2s - 3ms/step - accuracy: 0.8595 - loss: 0.3176 - val_accuracy: 0.8199 - val_loss: 0.3965\n",
            "Epoch 18/30\n",
            "625/625 - 1s - 2ms/step - accuracy: 0.8615 - loss: 0.3147 - val_accuracy: 0.8207 - val_loss: 0.3984\n",
            "Epoch 19/30\n",
            "625/625 - 2s - 4ms/step - accuracy: 0.8605 - loss: 0.3143 - val_accuracy: 0.8067 - val_loss: 0.4136\n",
            "Epoch 20/30\n",
            "625/625 - 1s - 2ms/step - accuracy: 0.8630 - loss: 0.3125 - val_accuracy: 0.8147 - val_loss: 0.4065\n",
            "Epoch 21/30\n",
            "625/625 - 1s - 2ms/step - accuracy: 0.8637 - loss: 0.3107 - val_accuracy: 0.8189 - val_loss: 0.4027\n",
            "Epoch 22/30\n",
            "625/625 - 1s - 2ms/step - accuracy: 0.8643 - loss: 0.3097 - val_accuracy: 0.8152 - val_loss: 0.4091\n",
            "Epoch 23/30\n",
            "625/625 - 1s - 2ms/step - accuracy: 0.8634 - loss: 0.3093 - val_accuracy: 0.8189 - val_loss: 0.4083\n",
            "Epoch 24/30\n",
            "625/625 - 1s - 2ms/step - accuracy: 0.8647 - loss: 0.3075 - val_accuracy: 0.8167 - val_loss: 0.4066\n",
            "Epoch 25/30\n",
            "625/625 - 2s - 3ms/step - accuracy: 0.8644 - loss: 0.3067 - val_accuracy: 0.8176 - val_loss: 0.4078\n",
            "Epoch 26/30\n",
            "625/625 - 2s - 4ms/step - accuracy: 0.8669 - loss: 0.3055 - val_accuracy: 0.8186 - val_loss: 0.4074\n",
            "Epoch 27/30\n",
            "625/625 - 1s - 2ms/step - accuracy: 0.8673 - loss: 0.3046 - val_accuracy: 0.8174 - val_loss: 0.4095\n",
            "Epoch 28/30\n",
            "625/625 - 1s - 2ms/step - accuracy: 0.8671 - loss: 0.3036 - val_accuracy: 0.8168 - val_loss: 0.4130\n",
            "Epoch 29/30\n",
            "625/625 - 1s - 2ms/step - accuracy: 0.8666 - loss: 0.3037 - val_accuracy: 0.8155 - val_loss: 0.4141\n",
            "Epoch 30/30\n",
            "625/625 - 1s - 2ms/step - accuracy: 0.8673 - loss: 0.3019 - val_accuracy: 0.8117 - val_loss: 0.4214\n"
          ]
        }
      ]
    },
    {
      "cell_type": "code",
      "source": [
        "history_2 = model_2.fit(training_padded_2, training_labels_2, epochs=num_epochs, validation_data=(testing_padded_2, testing_labels_2), verbose=2)"
      ],
      "metadata": {
        "colab": {
          "base_uri": "https://localhost:8080/"
        },
        "id": "HXt7akX29X7o",
        "outputId": "3fade2ae-828b-4be5-d6c5-6fbad25081b9"
      },
      "execution_count": 32,
      "outputs": [
        {
          "output_type": "stream",
          "name": "stdout",
          "text": [
            "Epoch 1/30\n",
            "625/625 - 2s - 4ms/step - accuracy: 0.7271 - loss: 0.5350 - val_accuracy: 0.8050 - val_loss: 0.4213\n",
            "Epoch 2/30\n",
            "625/625 - 2s - 4ms/step - accuracy: 0.8231 - loss: 0.3880 - val_accuracy: 0.8132 - val_loss: 0.3986\n",
            "Epoch 3/30\n",
            "625/625 - 1s - 2ms/step - accuracy: 0.8286 - loss: 0.3692 - val_accuracy: 0.8114 - val_loss: 0.3985\n",
            "Epoch 4/30\n",
            "625/625 - 2s - 3ms/step - accuracy: 0.8364 - loss: 0.3596 - val_accuracy: 0.8085 - val_loss: 0.4006\n",
            "Epoch 5/30\n",
            "625/625 - 2s - 3ms/step - accuracy: 0.8382 - loss: 0.3568 - val_accuracy: 0.8073 - val_loss: 0.4075\n",
            "Epoch 6/30\n",
            "625/625 - 2s - 3ms/step - accuracy: 0.8392 - loss: 0.3536 - val_accuracy: 0.8083 - val_loss: 0.4033\n",
            "Epoch 7/30\n",
            "625/625 - 1s - 2ms/step - accuracy: 0.8440 - loss: 0.3460 - val_accuracy: 0.8182 - val_loss: 0.3944\n",
            "Epoch 8/30\n",
            "625/625 - 1s - 2ms/step - accuracy: 0.8443 - loss: 0.3417 - val_accuracy: 0.8122 - val_loss: 0.4001\n",
            "Epoch 9/30\n",
            "625/625 - 1s - 2ms/step - accuracy: 0.8448 - loss: 0.3404 - val_accuracy: 0.8193 - val_loss: 0.3961\n",
            "Epoch 10/30\n",
            "625/625 - 1s - 2ms/step - accuracy: 0.8476 - loss: 0.3368 - val_accuracy: 0.8186 - val_loss: 0.3956\n",
            "Epoch 11/30\n",
            "625/625 - 1s - 2ms/step - accuracy: 0.8474 - loss: 0.3363 - val_accuracy: 0.8195 - val_loss: 0.3964\n",
            "Epoch 12/30\n",
            "625/625 - 1s - 2ms/step - accuracy: 0.8483 - loss: 0.3345 - val_accuracy: 0.8225 - val_loss: 0.3961\n",
            "Epoch 13/30\n",
            "625/625 - 2s - 3ms/step - accuracy: 0.8508 - loss: 0.3312 - val_accuracy: 0.8199 - val_loss: 0.3934\n",
            "Epoch 14/30\n",
            "625/625 - 2s - 3ms/step - accuracy: 0.8530 - loss: 0.3313 - val_accuracy: 0.8201 - val_loss: 0.3934\n",
            "Epoch 15/30\n",
            "625/625 - 1s - 2ms/step - accuracy: 0.8536 - loss: 0.3291 - val_accuracy: 0.8207 - val_loss: 0.3969\n",
            "Epoch 16/30\n",
            "625/625 - 1s - 2ms/step - accuracy: 0.8529 - loss: 0.3265 - val_accuracy: 0.8198 - val_loss: 0.3945\n",
            "Epoch 17/30\n",
            "625/625 - 1s - 2ms/step - accuracy: 0.8540 - loss: 0.3259 - val_accuracy: 0.8205 - val_loss: 0.3959\n",
            "Epoch 18/30\n",
            "625/625 - 1s - 2ms/step - accuracy: 0.8556 - loss: 0.3246 - val_accuracy: 0.8232 - val_loss: 0.3946\n",
            "Epoch 19/30\n",
            "625/625 - 1s - 2ms/step - accuracy: 0.8547 - loss: 0.3219 - val_accuracy: 0.8082 - val_loss: 0.4141\n",
            "Epoch 20/30\n",
            "625/625 - 1s - 2ms/step - accuracy: 0.8578 - loss: 0.3214 - val_accuracy: 0.8214 - val_loss: 0.3960\n",
            "Epoch 21/30\n",
            "625/625 - 1s - 2ms/step - accuracy: 0.8583 - loss: 0.3199 - val_accuracy: 0.8202 - val_loss: 0.4017\n",
            "Epoch 22/30\n",
            "625/625 - 2s - 3ms/step - accuracy: 0.8599 - loss: 0.3175 - val_accuracy: 0.8183 - val_loss: 0.3993\n",
            "Epoch 23/30\n",
            "625/625 - 2s - 3ms/step - accuracy: 0.8611 - loss: 0.3158 - val_accuracy: 0.8190 - val_loss: 0.4006\n",
            "Epoch 24/30\n",
            "625/625 - 1s - 2ms/step - accuracy: 0.8604 - loss: 0.3144 - val_accuracy: 0.8207 - val_loss: 0.4017\n",
            "Epoch 25/30\n",
            "625/625 - 1s - 2ms/step - accuracy: 0.8611 - loss: 0.3133 - val_accuracy: 0.8229 - val_loss: 0.4025\n",
            "Epoch 26/30\n",
            "625/625 - 1s - 2ms/step - accuracy: 0.8610 - loss: 0.3125 - val_accuracy: 0.8190 - val_loss: 0.4031\n",
            "Epoch 27/30\n",
            "625/625 - 1s - 2ms/step - accuracy: 0.8615 - loss: 0.3114 - val_accuracy: 0.8228 - val_loss: 0.4035\n",
            "Epoch 28/30\n",
            "625/625 - 1s - 2ms/step - accuracy: 0.8626 - loss: 0.3094 - val_accuracy: 0.8211 - val_loss: 0.4050\n",
            "Epoch 29/30\n",
            "625/625 - 1s - 2ms/step - accuracy: 0.8641 - loss: 0.3083 - val_accuracy: 0.8149 - val_loss: 0.4111\n",
            "Epoch 30/30\n",
            "625/625 - 1s - 2ms/step - accuracy: 0.8640 - loss: 0.3084 - val_accuracy: 0.8186 - val_loss: 0.4089\n"
          ]
        }
      ]
    },
    {
      "cell_type": "markdown",
      "metadata": {
        "id": "L_bWhGOSJLLm"
      },
      "source": [
        "## Visualize the Results\n",
        "\n",
        "You can use the cell below to plot the training results. You may notice some overfitting because your validation accuracy is slowly dropping while the training accuracy is still going up. See if you can improve it by tweaking the hyperparameters. Some example values are shown in the lectures."
      ]
    },
    {
      "cell_type": "code",
      "execution_count": 10,
      "metadata": {
        "id": "2HYfBKXjkmU8",
        "colab": {
          "base_uri": "https://localhost:8080/",
          "height": 881
        },
        "outputId": "3c69ab25-c56d-408d-89f0-a796559cee7d"
      },
      "outputs": [
        {
          "output_type": "display_data",
          "data": {
            "text/plain": [
              "<Figure size 640x480 with 1 Axes>"
            ],
            "image/png": "[encoded data removed]"
          },
          "metadata": {}
        },
        {
          "output_type": "display_data",
          "data": {
            "text/plain": [
              "<Figure size 640x480 with 1 Axes>"
            ],
            "image/png": "[encoded data removed]"
          },
          "metadata": {}
        }
      ],
      "source": [
        "import matplotlib.pyplot as plt\n",
        "\n",
        "# Plot utility\n",
        "def plot_graphs(history, string):\n",
        "  plt.plot(history.history[string])\n",
        "  plt.plot(history.history['val_'+string])\n",
        "  plt.xlabel(\"Epochs\")\n",
        "  plt.ylabel(string)\n",
        "  plt.legend([string, 'val_'+string])\n",
        "  plt.show()\n",
        "\n",
        "# Plot the accuracy and loss\n",
        "plot_graphs(history, \"accuracy\")\n",
        "plot_graphs(history, \"loss\")"
      ]
    },
    {
      "cell_type": "code",
      "source": [
        "plot_graphs(history_1, \"accuracy\")\n",
        "plot_graphs(history_1, \"loss\")"
      ],
      "metadata": {
        "colab": {
          "base_uri": "https://localhost:8080/",
          "height": 885
        },
        "id": "h4t4rig48pDy",
        "outputId": "135dc79b-f3eb-4132-8b3d-aba9fc7abb33"
      },
      "execution_count": 20,
      "outputs": [
        {
          "output_type": "display_data",
          "data": {
            "text/plain": [
              "<Figure size 640x480 with 1 Axes>"
            ],
            "image/png": "[encoded data removed]"
          },
          "metadata": {}
        },
        {
          "output_type": "display_data",
          "data": {
            "text/plain": [
              "<Figure size 640x480 with 1 Axes>"
            ],
            "image/png": "[encoded data removed]"
          },
          "metadata": {}
        }
      ]
    },
    {
      "cell_type": "code",
      "source": [
        "plot_graphs(history_2, \"accuracy\")\n",
        "plot_graphs(history_2, \"loss\")"
      ],
      "metadata": {
        "colab": {
          "base_uri": "https://localhost:8080/",
          "height": 881
        },
        "id": "EAPIlT4l9a1d",
        "outputId": "88e515c7-a782-4f68-88ae-3e6c2da1b10b"
      },
      "execution_count": 33,
      "outputs": [
        {
          "output_type": "display_data",
          "data": {
            "text/plain": [
              "<Figure size 640x480 with 1 Axes>"
            ],
            "image/png": "[encoded data removed]"
          },
          "metadata": {}
        },
        {
          "output_type": "display_data",
          "data": {
            "text/plain": [
              "<Figure size 640x480 with 1 Axes>"
            ],
            "image/png": "[encoded data removed]"
          },
          "metadata": {}
        }
      ]
    },
    {
      "cell_type": "markdown",
      "metadata": {
        "id": "JN6kaxxcJQgd"
      },
      "source": [
        "## Visualize Word Embeddings\n",
        "\n",
        "As before, you can visualize the final weights of the embeddings using the [Tensorflow Embedding Projector](https://projector.tensorflow.org/)."
      ]
    },
    {
      "cell_type": "code",
      "execution_count": 11,
      "metadata": {
        "id": "c9MqihtEkzQ9",
        "colab": {
          "base_uri": "https://localhost:8080/"
        },
        "outputId": "f84ef71e-9db6-4b61-fd2e-d025ea3bf6e7"
      },
      "outputs": [
        {
          "output_type": "stream",
          "name": "stdout",
          "text": [
            "(10000, 16)\n"
          ]
        }
      ],
      "source": [
        "# Get the index-word dictionary\n",
        "reverse_word_index = tokenizer.index_word\n",
        "\n",
        "# Get the embedding layer from the model (i.e. first layer)\n",
        "embedding_layer = model.layers[0]\n",
        "\n",
        "# Get the weights of the embedding layer\n",
        "embedding_weights = embedding_layer.get_weights()[0]\n",
        "\n",
        "# Print the shape. Expected is (vocab_size, embedding_dim)\n",
        "print(embedding_weights.shape)\n"
      ]
    },
    {
      "cell_type": "code",
      "execution_count": 12,
      "metadata": {
        "id": "LoBXVffknldU"
      },
      "outputs": [],
      "source": [
        "import io\n",
        "\n",
        "# Open writeable files\n",
        "out_v = io.open('vecs.tsv', 'w', encoding='utf-8')\n",
        "out_m = io.open('meta.tsv', 'w', encoding='utf-8')\n",
        "\n",
        "# Initialize the loop. Start counting at `1` because `0` is just for the padding\n",
        "for word_num in range(1, vocab_size):\n",
        "\n",
        "  # Get the word associated at the current index\n",
        "  word_name = reverse_word_index[word_num]\n",
        "\n",
        "  # Get the embedding weights associated with the current index\n",
        "  word_embedding = embedding_weights[word_num]\n",
        "\n",
        "  # Write the word name\n",
        "  out_m.write(word_name + \"\\n\")\n",
        "\n",
        "  # Write the word embedding\n",
        "  out_v.write('\\t'.join([str(x) for x in word_embedding]) + \"\\n\")\n",
        "\n",
        "# Close the files\n",
        "out_v.close()\n",
        "out_m.close()"
      ]
    },
    {
      "cell_type": "code",
      "execution_count": 13,
      "metadata": {
        "id": "U4eZ5HtVnnEE",
        "colab": {
          "base_uri": "https://localhost:8080/",
          "height": 17
        },
        "outputId": "3bc1bfff-56ef-4bdc-8eb3-edad06caf2e0"
      },
      "outputs": [
        {
          "output_type": "display_data",
          "data": {
            "text/plain": [
              "<IPython.core.display.Javascript object>"
            ],
            "application/javascript": [
              "\n",
              "    async function download(id, filename, size) {\n",
              "      if (!google.colab.kernel.accessAllowed) {\n",
              "        return;\n",
              "      }\n",
              "      const div = document.createElement('div');\n",
              "      const label = document.createElement('label');\n",
              "      label.textContent = `Downloading \"${filename}\": `;\n",
              "      div.appendChild(label);\n",
              "      const progress = document.createElement('progress');\n",
              "      progress.max = size;\n",
              "      div.appendChild(progress);\n",
              "      document.body.appendChild(div);\n",
              "\n",
              "      const buffers = [];\n",
              "      let downloaded = 0;\n",
              "\n",
              "      const channel = await google.colab.kernel.comms.open(id);\n",
              "      // Send a message to notify the kernel that we're ready.\n",
              "      channel.send({})\n",
              "\n",
              "      for await (const message of channel.messages) {\n",
              "        // Send a message to notify the kernel that we're ready.\n",
              "        channel.send({})\n",
              "        if (message.buffers) {\n",
              "          for (const buffer of message.buffers) {\n",
              "            buffers.push(buffer);\n",
              "            downloaded += buffer.byteLength;\n",
              "            progress.value = downloaded;\n",
              "          }\n",
              "        }\n",
              "      }\n",
              "      const blob = new Blob(buffers, {type: 'application/binary'});\n",
              "      const a = document.createElement('a');\n",
              "      a.href = window.URL.createObjectURL(blob);\n",
              "      a.download = filename;\n",
              "      div.appendChild(a);\n",
              "      a.click();\n",
              "      div.remove();\n",
              "    }\n",
              "  "
            ]
          },
          "metadata": {}
        },
        {
          "output_type": "display_data",
          "data": {
            "text/plain": [
              "<IPython.core.display.Javascript object>"
            ],
            "application/javascript": [
              "download(\"download_43930422-e661-44d0-b17d-3291a5d5ecdf\", \"vecs.tsv\", 1832090)"
            ]
          },
          "metadata": {}
        },
        {
          "output_type": "display_data",
          "data": {
            "text/plain": [
              "<IPython.core.display.Javascript object>"
            ],
            "application/javascript": [
              "\n",
              "    async function download(id, filename, size) {\n",
              "      if (!google.colab.kernel.accessAllowed) {\n",
              "        return;\n",
              "      }\n",
              "      const div = document.createElement('div');\n",
              "      const label = document.createElement('label');\n",
              "      label.textContent = `Downloading \"${filename}\": `;\n",
              "      div.appendChild(label);\n",
              "      const progress = document.createElement('progress');\n",
              "      progress.max = size;\n",
              "      div.appendChild(progress);\n",
              "      document.body.appendChild(div);\n",
              "\n",
              "      const buffers = [];\n",
              "      let downloaded = 0;\n",
              "\n",
              "      const channel = await google.colab.kernel.comms.open(id);\n",
              "      // Send a message to notify the kernel that we're ready.\n",
              "      channel.send({})\n",
              "\n",
              "      for await (const message of channel.messages) {\n",
              "        // Send a message to notify the kernel that we're ready.\n",
              "        channel.send({})\n",
              "        if (message.buffers) {\n",
              "          for (const buffer of message.buffers) {\n",
              "            buffers.push(buffer);\n",
              "            downloaded += buffer.byteLength;\n",
              "            progress.value = downloaded;\n",
              "          }\n",
              "        }\n",
              "      }\n",
              "      const blob = new Blob(buffers, {type: 'application/binary'});\n",
              "      const a = document.createElement('a');\n",
              "      a.href = window.URL.createObjectURL(blob);\n",
              "      a.download = filename;\n",
              "      div.appendChild(a);\n",
              "      a.click();\n",
              "      div.remove();\n",
              "    }\n",
              "  "
            ]
          },
          "metadata": {}
        },
        {
          "output_type": "display_data",
          "data": {
            "text/plain": [
              "<IPython.core.display.Javascript object>"
            ],
            "application/javascript": [
              "download(\"download_75c17b0d-6503-48bb-8284-1b55e888622e\", \"meta.tsv\", 75974)"
            ]
          },
          "metadata": {}
        }
      ],
      "source": [
        "# Import files utilities in Colab\n",
        "try:\n",
        "  from google.colab import files\n",
        "except ImportError:\n",
        "  pass\n",
        "\n",
        "# Download the files\n",
        "else:\n",
        "  files.download('vecs.tsv')\n",
        "  files.download('meta.tsv')"
      ]
    },
    {
      "cell_type": "markdown",
      "metadata": {
        "id": "1GierJvdJWMt"
      },
      "source": [
        "## Wrap Up\n",
        "\n",
        "In this lab, you were able to build a binary classifier to detect sarcasm. You saw some overfitting in the initial attempt and hopefully, you were able to arrive at a better set of hyperparameters.\n",
        "\n",
        "So far, you've been tokenizing datasets from scratch and you're treating the vocab size as a hyperparameter. Furthermore, you're tokenizing the texts by building a vocabulary of full words. In the next lab, you will make use of a pre-tokenized dataset that uses a vocabulary of *subwords*. For instance, instead of having a uniqe token for the word `Tensorflow`, it will instead have a token each for `Ten`, `sor`, and `flow`. You will see the motivation and implications of having this design in the next exercise. See you there!"
      ]
    }
  ],
  "metadata": {
    "colab": {
      "provenance": []
    },
    "kernelspec": {
      "display_name": "Python 3",
      "name": "python3"
    },
    "language_info": {
      "codemirror_mode": {
        "name": "ipython",
        "version": 3
      },
      "file_extension": ".py",
      "mimetype": "text/x-python",
      "name": "python",
      "nbconvert_exporter": "python",
      "pygments_lexer": "ipython3",
      "version": "3.9.13"
    }
  },
  "nbformat": 4,
  "nbformat_minor": 0
}